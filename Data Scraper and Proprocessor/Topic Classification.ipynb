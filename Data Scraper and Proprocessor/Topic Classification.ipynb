{
 "cells": [
  {
   "cell_type": "code",
   "execution_count": 7,
   "metadata": {},
   "outputs": [],
   "source": [
    "from Data_Processor import *\n",
    "import numpy as np\n",
    "from matplotlib import pyplot as plt"
   ]
  },
  {
   "cell_type": "code",
   "execution_count": 8,
   "metadata": {},
   "outputs": [],
   "source": [
    "from gensim.test.utils import common_texts, get_tmpfile\n",
    "from gensim.models import Word2Vec\n",
    "from gensim.test.utils import datapath\n",
    "from gensim import utils"
   ]
  },
  {
   "cell_type": "code",
   "execution_count": 9,
   "metadata": {},
   "outputs": [],
   "source": [
    "model = gensim.models.Word2Vec.load('D')"
   ]
  },
  {
   "cell_type": "code",
   "execution_count": 7,
   "metadata": {},
   "outputs": [
    {
     "name": "stdout",
     "output_type": "stream",
     "text": [
      "[('apps', 0.6727755069732666), ('portal', 0.6183619499206543), ('interface', 0.6052642464637756), ('ui', 0.5804837942123413), ('browser', 0.5590360164642334), ('online', 0.5523389577865601), ('desktop', 0.5470850467681885), ('mobile', 0.5249719619750977), ('android', 0.5238040685653687), ('login', 0.5216538310050964), ('io', 0.5039412975311279), ('website', 0.5027734041213989), ('erica', 0.4876369535923004), ('convenience', 0.4836791753768921), ('firefox', 0.48321533203125), ('user', 0.478219598531723), ('seamless', 0.47709715366363525), ('method', 0.4699082672595978), ('interaction', 0.46861040592193604), ('device', 0.46632808446884155), ('service', 0.46493956446647644), ('remote', 0.4523334503173828), ('ux', 0.452324777841568), ('password', 0.4519975185394287), ('site', 0.45118463039398193), ('aspiration', 0.4490739107131958), ('feature', 0.4490330219268799), ('automated', 0.44383326172828674), ('messaging', 0.44378307461738586), ('fingerprint', 0.4434358477592468), ('web', 0.44295385479927063), ('capability', 0.43976902961730957), ('convenient', 0.4368484616279602), ('log', 0.43073123693466187), ('chatbot', 0.42837968468666077), ('process', 0.42771002650260925), ('zelle', 0.42720359563827515), ('intuitive', 0.4264020621776581), ('finfolio', 0.42582404613494873), ('platform', 0.4255151152610779), ('billpay', 0.4223330318927765), ('application', 0.4207601249217987), ('authentication', 0.42074328660964966), ('manually', 0.42063599824905396), ('citigoldhello', 0.4198463559150696), ('software', 0.4197205901145935), ('api', 0.4154154658317566), ('excel', 0.4139818549156189), ('selfservice', 0.4137455224990845), ('computer', 0.40982088446617126)]\n"
     ]
    }
   ],
   "source": [
    "print(model.wv.most_similar(['experience','app'],topn=50))"
   ]
  },
  {
   "cell_type": "code",
   "execution_count": 24,
   "metadata": {},
   "outputs": [
    {
     "name": "stdout",
     "output_type": "stream",
     "text": [
      "([1972, 1645, 1637, 2089, 2281, 3123, 2302, 1832, 1944, 1611, 1945, 2183, 2479, 1695, 1740, 1986, 1647, 1997, 1780, 1614, 1713, 1804, 1747, 1836, 2104, 1712, 1425, 2077, 1642, 1844, 1657, 1884, 1681, 1680, 1574, 1878], 67760)\n",
      "([1972, 1645, 1637, 2089, 2281, 3123, 2301, 1832, 1944, 1611, 1944, 2183, 2479, 1695, 1740, 1983, 1647, 1997, 1777, 1614, 1711, 1804, 1746, 1836, 2104, 1712, 1423, 2076, 1641, 1842, 1657, 1881, 1681, 1678, 1573, 1876], 67735)\n"
     ]
    }
   ],
   "source": [
    "dirlist=[r\"D:\\ssdata\\UBS\\UBS\"]\n",
    "DP2=Data_Processor(start_month='2017-06',end_month='2020-05',\n",
    "                  template=dirlist)\n",
    "DP2.readdata()\n",
    "print(DP2.datanums())\n",
    "DP2.specifylang()\n",
    "noise=DP2.removenoise() \n",
    "DP2.clean()\n",
    "print(DP2.datanums())"
   ]
  },
  {
   "cell_type": "code",
   "execution_count": 20,
   "metadata": {},
   "outputs": [],
   "source": [
    "ndata=[]\n",
    "for m in DP2.data:\n",
    "    current_month=[]\n",
    "    for i in m[:-1]:\n",
    "        if  i['positive']>2 or i['negative']<-2:\n",
    "            current_month.append(i)\n",
    "    ndata.append(current_month)\n",
    "DP2.data=ndata            "
   ]
  }
 ],
 "metadata": {
  "kernelspec": {
   "display_name": "Python 3",
   "language": "python",
   "name": "python3"
  },
  "language_info": {
   "codemirror_mode": {
    "name": "ipython",
    "version": 3
   },
   "file_extension": ".py",
   "mimetype": "text/x-python",
   "name": "python",
   "nbconvert_exporter": "python",
   "pygments_lexer": "ipython3",
   "version": "3.7.4"
  }
 },
 "nbformat": 4,
 "nbformat_minor": 2
}
