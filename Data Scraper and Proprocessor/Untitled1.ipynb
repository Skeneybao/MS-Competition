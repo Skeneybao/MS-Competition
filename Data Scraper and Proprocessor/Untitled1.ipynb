{
 "cells": [
  {
   "cell_type": "code",
   "execution_count": 12,
   "metadata": {},
   "outputs": [],
   "source": [
    "from Data_Processor import *\n",
    "import numpy as np\n",
    "import matplotlib.pyplot as plt\n",
    "import matplotlib\n",
    "\n",
    "from collections import Counter\n",
    "from gensim.test.utils import common_texts, get_tmpfile\n",
    "from gensim.models import Word2Vec\n",
    "from gensim.test.utils import datapath\n",
    "from gensim import utils\n",
    "\n",
    "import gensim\n",
    "from gensim import corpora\n",
    "from gensim.models.ldamodel import LdaModel\n",
    "from gensim.models import Word2Vec, CoherenceModel\n",
    "\n",
    "import pprint\n",
    "\n",
    "from nltk.corpus import stopwords\n",
    "\n",
    "from sklearn.feature_extraction.text import TfidfVectorizer\n",
    "from sklearn.decomposition import NMF\n",
    "model = gensim.models.Word2Vec.load('D')"
   ]
  },
  {
   "cell_type": "code",
   "execution_count": 13,
   "metadata": {},
   "outputs": [
    {
     "name": "stdout",
     "output_type": "stream",
     "text": [
      "([2658, 2406, 3143, 3314, 2232, 2310, 2907, 2855, 4228, 3163, 2038, 2791, 3030, 2675, 2342, 2352, 2198, 2585, 3529, 2181, 2443, 2681, 3215, 2027, 2688, 2832, 2765, 3858, 3966, 4693, 2988, 4086, 4084, 4036, 4186, 3795], 109280)\n",
      "([2557, 2325, 3075, 3215, 2172, 2253, 2818, 2801, 4072, 3024, 1980, 2708, 2914, 2568, 2247, 2173, 2044, 2251, 3236, 2000, 2299, 2513, 3095, 1893, 2514, 2536, 2439, 3602, 3515, 4345, 2691, 3841, 3898, 3806, 3973, 3479], 102872)\n"
     ]
    }
   ],
   "source": [
    "DPms=Data_Processor(start_month='2017-06',end_month='2020-05',\n",
    "                  template=[r\"D:/final/Blooom/Blooom\"])\n",
    "DPms.readdata()\n",
    "print(DPms.datanums())\n",
    "DPms.specifylang()\n",
    "noise=DPms.removenoise() \n",
    "DPms.clean()\n",
    "print(DPms.datanums())"
   ]
  },
  {
   "cell_type": "code",
   "execution_count": null,
   "metadata": {},
   "outputs": [],
   "source": []
  }
 ],
 "metadata": {
  "kernelspec": {
   "display_name": "Python 3",
   "language": "python",
   "name": "python3"
  },
  "language_info": {
   "codemirror_mode": {
    "name": "ipython",
    "version": 3
   },
   "file_extension": ".py",
   "mimetype": "text/x-python",
   "name": "python",
   "nbconvert_exporter": "python",
   "pygments_lexer": "ipython3",
   "version": "3.7.4"
  }
 },
 "nbformat": 4,
 "nbformat_minor": 2
}
