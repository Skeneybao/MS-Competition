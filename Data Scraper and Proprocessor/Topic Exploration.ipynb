{
 "cells": [
  {
   "cell_type": "code",
   "execution_count": 1,
   "metadata": {},
   "outputs": [
    {
     "name": "stderr",
     "output_type": "stream",
     "text": [
      "[nltk_data] Downloading package wordnet to\n",
      "[nltk_data]     C:\\Users\\Erzi\\AppData\\Roaming\\nltk_data...\n",
      "[nltk_data]   Package wordnet is already up-to-date!\n",
      "[nltk_data] Downloading package punkt to\n",
      "[nltk_data]     C:\\Users\\Erzi\\AppData\\Roaming\\nltk_data...\n",
      "[nltk_data]   Package punkt is already up-to-date!\n",
      "[nltk_data] Downloading package stopwords to\n",
      "[nltk_data]     C:\\Users\\Erzi\\AppData\\Roaming\\nltk_data...\n",
      "[nltk_data]   Package stopwords is already up-to-date!\n"
     ]
    }
   ],
   "source": [
    "from Data_Processor import Data_Processor\n",
    "from Data_Processor import clean\n",
    "import numpy as np\n",
    "from matplotlib import pyplot as plt\n",
    "import gensim"
   ]
  },
  {
   "cell_type": "code",
   "execution_count": 2,
   "metadata": {},
   "outputs": [
    {
     "name": "stdout",
     "output_type": "stream",
     "text": [
      "([4577, 4968, 4675, 4893, 4178, 5011, 5379, 5127, 3961, 3999, 3606, 5131, 4841, 4097, 3976, 5675, 4350, 3863, 3630, 3471, 3542, 4300, 3988, 5320, 3799, 3265, 3160, 3566, 3455, 3431, 3081, 3417, 3829, 4732, 4458, 4505], 151256)\n",
      "([4570, 4964, 4673, 4888, 4176, 5006, 5374, 5126, 3959, 3994, 3603, 5129, 4839, 4095, 3973, 5671, 4345, 3860, 3627, 3466, 3541, 4300, 3987, 5315, 3795, 3263, 3160, 3562, 3453, 3429, 3078, 3414, 3825, 4729, 4456, 4504], 151149)\n"
     ]
    }
   ],
   "source": [
    "DP=Data_Processor(start_month='2017-06',end_month='2020-05',\n",
    "                  template=[r\"D:\\final\\Morgan_Stanley\"])\n",
    "DP.readdata()\n",
    "print(DP.datanums())\n",
    "DP.specifylang()\n",
    "noise=DP.removenoise() \n",
    "DP.clean()\n",
    "print(DP.datanums())\n",
    "#DP.tokenizetext()"
   ]
  },
  {
   "cell_type": "code",
   "execution_count": 3,
   "metadata": {},
   "outputs": [],
   "source": [
    "topic_data=DP.gettopic(['digital','platform'],counts=1,threshold=50)"
   ]
  },
  {
   "cell_type": "code",
   "execution_count": 4,
   "metadata": {},
   "outputs": [],
   "source": [
    "model = gensim.models.Word2Vec.load('D')"
   ]
  },
  {
   "cell_type": "code",
   "execution_count": 50,
   "metadata": {},
   "outputs": [
    {
     "name": "stdout",
     "output_type": "stream",
     "text": [
      "[('ui', 0.6896977424621582), ('apps', 0.6721550226211548), ('interface', 0.6643864512443542), ('browser', 0.6580694317817688), ('desktop', 0.6490544080734253), ('android', 0.6323031187057495), ('io', 0.6308915615081787), ('graphic', 0.5924712419509888), ('intuitive', 0.5921165347099304), ('web', 0.5915093421936035), ('ux', 0.5900338888168335), ('portal', 0.5830869674682617), ('feature', 0.58141028881073), ('firefox', 0.5767062902450562), ('device', 0.5765344500541687), ('method', 0.5706736445426941), ('backend', 0.5687711834907532), ('fingerprint', 0.5685701370239258), ('login', 0.5671581029891968), ('website', 0.5639488697052002), ('finfolio', 0.5592350959777832), ('ipad', 0.5443509817123413), ('designer', 0.543907642364502), ('chrome', 0.5322754383087158), ('functionality', 0.5275552272796631), ('site', 0.5271225571632385), ('messaging', 0.5243340134620667), ('api', 0.5236460566520691), ('software', 0.520902156829834), ('algorithm', 0.5196725726127625), ('user', 0.5183837413787842), ('mobile', 0.5158820152282715), ('online', 0.5156345963478088), ('erica', 0.5149064064025879), ('scan', 0.5100102424621582), ('authentication', 0.509522020816803), ('visual', 0.503873348236084), ('download', 0.5023622512817383), ('bug', 0.49654674530029297), ('module', 0.4941067695617676), ('spreadsheet', 0.49263694882392883), ('laptop', 0.4925762414932251), ('scanning', 0.4922102391719818), ('computer', 0.49142366647720337), ('outdated', 0.4896093010902405), ('linux', 0.48742547631263733), ('functional', 0.4867369532585144), ('contactless', 0.48098331689834595), ('citigoldhello', 0.4807477295398712), ('sm', 0.47957661747932434)]\n"
     ]
    }
   ],
   "source": [
    "print(model.wv.most_similar(['design','app'],topn=50))"
   ]
  },
  {
   "cell_type": "code",
   "execution_count": 20,
   "metadata": {},
   "outputs": [],
   "source": [
    "#DP.getkeyworddata(key_word='digital platform',text=1)\n",
    "#['James Gorman says MorganStanley needs a compelling digital platform for nontraditional clients AndrewWelsch']\n",
    "#['Inventive Astute and Intentional Morgan Stanley meets the demands of investors my age by offering a service with a low minimum investment on an all digital platform Now thats investing ']\n",
    "#['However Fintech outlook Chicago MA of incumbent like Morgan Stanley acqiring ETrade for a digital platform is the new trend'],"
   ]
  },
  {
   "cell_type": "code",
   "execution_count": 24,
   "metadata": {},
   "outputs": [],
   "source": [
    "#DP.getkeyworddata(key_word='online account',text=0)\n",
    "#['MorganStanley Client since want to create an online account Phone number on my account is no longer in service I want to change a few things but unable to get confirmation of online acct due to phone number issue Ive tried calling but dont have an agent']\n",
    "#['MorganStanley your customer service and it security IT Dept have hit rock bottom in my book I sat on hold for min because some numbskull put a new code needed to access my online accountNONE of my info needed to be updated']\n",
    "#['MorganStanley Unbelievable that you have no telephone support on the weekend before the end of the tax year I am having problems with my Stock Plan Connect online account and neither your technical support nor account support phone lines are available this weekend Epic fail']"
   ]
  },
  {
   "cell_type": "code",
   "execution_count": 35,
   "metadata": {},
   "outputs": [],
   "source": [
    "#DP.getkeyworddata(key_word='digitally',text=1)\n",
    "# ['In the world of end to end encrypted communication MorganStanley Stockplanet still wants me to FAX them a DIGITALLY available letter to transfer my shares from one account to another Incredibly frustrating']\n",
    "#['seriously, they don't even have a standard set of documents and fields required to transfer between two morgan stanley accounts For Microsoft I use stockplannet For Uber its solium BY morgan stanley Completely different processes and forms']"
   ]
  },
  {
   "cell_type": "code",
   "execution_count": 46,
   "metadata": {},
   "outputs": [],
   "source": [
    "#DP.getkeyworddata(key_word='android',text=1)\n",
    "#['why doesnt the MorganStanley android app let you take screenshots hmm what are yall trying to HIDE']"
   ]
  },
  {
   "cell_type": "code",
   "execution_count": 49,
   "metadata": {},
   "outputs": [],
   "source": [
    "#DP.getkeyworddata(key_word='browser',text=0)"
   ]
  },
  {
   "cell_type": "code",
   "execution_count": 53,
   "metadata": {},
   "outputs": [],
   "source": [
    "#DP.getkeyworddata(key_word='web',text=1)\n",
    "#'Morgan Stanley website is really stupid They ask for security questions which is known to be lame Our company should stop using it'\n",
    "#'Well the MorganStanley website seems to be experiencing problems Maybe if Dear Leader hadnt crashed the stock market'\n",
    "#'MorganStanley It looks to me like pure speculation to get best price before all lithium stocks surge Please do your homework before pumping false news into the Web'\n",
    "#'MorganStanley The wire Transfer instruction for your website are completely outdated and asking for sending the proceeds through cheque is even more torturous Called up helpline times with no luck Really bad experience'\n",
    "#MorganStanley Do you realize your Stock Plan Connect website is undergoing maintenance during tax filing weekend\n",
    "#The Morgan Stanley website will autofill with my LastPass but its wrong Then if I copypaste from the manager itself it lets me in \n",
    "#'MorganStanley your website shows that my last login was minutes in the future How can you manage billions in assets but cant understand time zones If you outsourced your development hire competent people in the future'\n",
    "#'MorganStanley Hi Ive forgot my password of stockplanconnect Tried the forgot password link but website is not sending Text OTP on mobile tried using voice OTP received the blank call for voice OTP Tried service center support but it says toll free no r wrong Please help'\n",
    "#'STUPID MorganStanley web site Has a link to show TC and an accept checkbox Site wont let you check it until youve read the TC MIddle click the link to load in a new tab and it doesnt recognise it as you having loaded the page so still wont accept the checkbox \n",
    "#'MorganStanley Its website outage for system maintenance is unacceptable'\n",
    "#When I click on link it doesnt connect to your website\n",
    "#MorganStanley why is my wait time long I just need to log on the website for my accountwere you hacked\n",
    "#Updated website Let me know what you think MorganStanley uofsc uofschrsm columbiasc gamecocksonline\n",
    "#MorganStanley Hello Im looking for a document by Brian Nowak Amazon Disruption Symposium from September It was on your website here but the link is broken Many thanks Rob\n",
    "#Wow MorganStanley could your website provide any less sense of professionalism than this Tried clicking on documents in two different views while logged into my account\n",
    "#MorganStanley is your stock plan connect website down I tried both mobile and web\n",
    "#morganstanley do you think you can get your sht together next year and get s out earlier Your website informs me that my s wont be ready until Feb You are not meeting my expectations\n",
    "#'If youre ever feeling down about your programming skills take a look at the console on the MorganStanley website '\n",
    "# 'MorganStanley it takes two days to execute a trade on your platform even longer to actually get the money and you removed access to my account through your app so Im forced to use the website Why should people stick with you'\n",
    "#Wow MorganStanley your security is a bit of a mess Youve got a system to email me a form securely but you cant deliver it through your web site So I have to open a dodgy email attachment Then when I fill out the form you have no way for me to return it securely \n",
    "#'MorganStanley please improve your services Please make sure that your websites work'\n",
    "#How come morganstanley seems completely unwilling to provide any documentation how to translate the myriad code terms in the website activity listing into the data on statements And how come no transaction IDs when the fields contents change from day to day',\n",
    "#WTF Just get your web site working IB never goes down\n",
    "#MorganStanley why is your website down\n",
    "#Morgan Stanley outage across trading platforms Clientfacing website and app are down as well\n",
    "#MorganStanley I just spent h trying to sell my former company shares on the phone and through your stockplanconnect website What a disater I have been unable but I swear I will get my money back"
   ]
  },
  {
   "cell_type": "code",
   "execution_count": null,
   "metadata": {},
   "outputs": [],
   "source": [
    "online=['digital service','digital platform','online service','mobile app','online account','self service','selfservice',\n",
    "        'online experience']"
   ]
  },
  {
   "cell_type": "code",
   "execution_count": 59,
   "metadata": {},
   "outputs": [],
   "source": [
    "#DP.getkeyworddata(key_word='online service',text=1)\n",
    "#MorganStanley how can ur online service crash on a day like today' 2020-3\n",
    "#MorganStanley online services now down several hours Whats happening This is unconscionable'] 2020-3"
   ]
  },
  {
   "cell_type": "code",
   "execution_count": 63,
   "metadata": {},
   "outputs": [],
   "source": [
    "#DP.getkeyworddata(key_word='online experience',text=1)\n",
    "#'MorganStanley Your online experience is HORRIBLE with a capital H you are holding my money hostage and I want it' 2017-6"
   ]
  },
  {
   "cell_type": "code",
   "execution_count": null,
   "metadata": {},
   "outputs": [],
   "source": []
  }
 ],
 "metadata": {
  "kernelspec": {
   "display_name": "Python 3",
   "language": "python",
   "name": "python3"
  },
  "language_info": {
   "codemirror_mode": {
    "name": "ipython",
    "version": 3
   },
   "file_extension": ".py",
   "mimetype": "text/x-python",
   "name": "python",
   "nbconvert_exporter": "python",
   "pygments_lexer": "ipython3",
   "version": "3.7.4"
  }
 },
 "nbformat": 4,
 "nbformat_minor": 2
}
