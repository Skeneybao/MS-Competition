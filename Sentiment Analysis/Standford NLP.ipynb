{
 "cells": [
  {
   "cell_type": "markdown",
   "metadata": {},
   "source": [
    "### StandfordCoreNLP\n",
    "#### Using  to get sentiment score (via PyCorenlp wrapper)\n",
    "\n",
    "See https://stackoverflow.com/questions/32879532/stanford-nlp-for-python\n",
    "\n",
    "Since StandfordCoreNLP is written in Java, we need to use pycorenlp (a python wrapper for StandfordCoreNLP) to connect to Java and use it here. To run the following codes, you need to install the following:\n",
    "\n",
    "1. Install latest StandfordCoreNLP version (a zip file) from http://nlp.stanford.edu/software/stanford-corenlp-latest.zip \n",
    "    - Note: In MacOS, you can directly download by using wget or curl\n",
    "\n",
    "2. Unzip the downloaded file, put it into a directory, say named `standford-corenlp-4.0.0`.\n",
    "\n",
    "3. Start the server using terminal\n",
    "    - Open the terminal, use `cd` to go to the directory you just created, type `cd Users\\xxx\\stanstandford-corenlp-4.0.0`\n",
    "    - Then type in `java -mx5g -cp \"*\" edu.stanford.nlp.pipeline.StanfordCoreNLPServer -timeout 10000` \n",
    "    - Now you should see something like `[main] INFO CoreNLP - StanfordCoreNLPServer listening at /0:0:0:0:0:0:0:0:9000`, means that your server is started, waiting for data from port in 9000\n",
    "   \n",
    "4. Then download the `pycorenlp` package using `pip install pycorenlp` \n",
    "5. Now you should be good to run the following sentiment anaylsis code using StandfordCoreNLP (note the port below is also using 9000 as you just set. If port name not consistent, your code would fail)\n"
   ]
  },
  {
   "cell_type": "code",
   "execution_count": 49,
   "metadata": {},
   "outputs": [],
   "source": [
    "from pycorenlp import StanfordCoreNLP\n",
    "\n",
    "nlp = StanfordCoreNLP('http://localhost:9000') #the port here should be the same as above (openned server)\n",
    "#nlp.annotate will return a dictionary (key is 'sentences')\n",
    "sentence = \"\"\"\n",
    "What on earth is the stock market doing? Death and despair are all around. \n",
    "The number of people filing for unemployment benefits each of the last two weeks was about 10 times \n",
    "the previous record - and is probably being artificially held back by overloaded government systems. \n",
    "Vast swaths of American business are shuttered indefinitely. \n",
    "The economic quarter now underway will most likely feature Great Depression-caliber shrinkage in economic activity.\n",
    "Yet at Thursday's close, the S&P 500 was up 25 percent from its recent low on March 23. \n",
    "It is down only about 14 percent this year - and is up from its levels of just 11 months ago. \n",
    "There are answers as to why (more on that below). \n",
    "But that doesn't take away the extremity of the juxtaposition between an economy in free fall and \n",
    "a stock market that is, in the scheme of things, doing just fine.\n",
    "Two powerful forces are pushing in opposite directions. \n",
    "Commerce is being disrupted to a degree that seemed impossible just weeks ago. \n",
    "But simultaneously, stock investors are betting that powerful interventions out of Washington -\n",
    "including an additional $2.3 trillion in lending programs from the Federal Reserve announced on Thursday -\n",
    "will be enough to enable major companies to emerge with little damage to their long-term profitability.\n",
    "It's a battle between collapsing economic activity and, to use a silly meme from finance \n",
    "Twitter, the federal government's money printer going \"brrr.\" \n",
    "In the stock market, at least, the revving of the money printer is winning\n",
    "\"\"\"\n",
    "\n",
    "#here nlp.annotate process each sentence in the paragraph above using the annotators specified below\n",
    "res = nlp.annotate(sentence,\n",
    "                   properties={\n",
    "                       'annotators': 'tokenize,ssplit,pos,parse,sentiment',\n",
    "                       'outputFormat': 'json',\n",
    "                       'timeout': 100000,\n",
    "                   })"
   ]
  },
  {
   "cell_type": "code",
   "execution_count": 54,
   "metadata": {},
   "outputs": [
    {
     "name": "stdout",
     "output_type": "stream",
     "text": [
      "0: 'What on earth is the stock market doing ?': 2 Neutral\n",
      "1: 'Death and despair are all around .': 1 Negative\n",
      "2: 'The number of people filing for unemployment benefits each of the last two weeks was about 10 times the previous record - and is probably being artificially held back by overloaded government systems .': 3 Positive\n",
      "3: 'Vast swaths of American business are shuttered indefinitely .': 2 Neutral\n",
      "4: 'The economic quarter now underway will most likely feature Great Depression - caliber shrinkage in economic activity .': 1 Negative\n",
      "5: 'Yet at Thursday 's close , the S&P 500 was up 25 percent from its recent low on March 23 .': 1 Negative\n",
      "6: 'It is down only about 14 percent this year - and is up from its levels of just 11 months ago .': 2 Neutral\n",
      "7: 'There are answers as to why ( more on that below ) .': 1 Negative\n",
      "8: 'But that does n't take away the extremity of the juxtaposition between an economy in free fall and a stock market that is , in the scheme of things , doing just fine .': 1 Negative\n",
      "9: 'Two powerful forces are pushing in opposite directions .': 3 Positive\n",
      "10: 'Commerce is being disrupted to a degree that seemed impossible just weeks ago .': 1 Negative\n",
      "11: 'But simultaneously , stock investors are betting that powerful interventions out of Washington - including an additional $ 2.3 trillion in lending programs from the Federal Reserve announced on Thursday - will be enough to enable major companies to emerge with little damage to their long - term profitability .': 1 Negative\n",
      "12: 'It 's a battle between collapsing economic activity and , to use a silly meme from finance Twitter , the federal government 's money printer going \" brrr . \"': 1 Negative\n",
      "13: 'In the stock market , at least , the revving of the money printer is winning': 3 Positive\n"
     ]
    }
   ],
   "source": [
    "for s in res[\"sentences\"]:\n",
    "    print(\"%d: '%s': %s %s\" % (\n",
    "        s[\"index\"],\n",
    "        \" \".join([t[\"word\"] for t in s[\"tokens\"]]),\n",
    "        s[\"sentimentValue\"], s[\"sentiment\"]))"
   ]
  },
  {
   "cell_type": "code",
   "execution_count": null,
   "metadata": {},
   "outputs": [],
   "source": []
  }
 ],
 "metadata": {
  "kernelspec": {
   "display_name": "Python 3",
   "language": "python",
   "name": "python3"
  },
  "language_info": {
   "codemirror_mode": {
    "name": "ipython",
    "version": 3
   },
   "file_extension": ".py",
   "mimetype": "text/x-python",
   "name": "python",
   "nbconvert_exporter": "python",
   "pygments_lexer": "ipython3",
   "version": "3.7.4"
  }
 },
 "nbformat": 4,
 "nbformat_minor": 2
}
