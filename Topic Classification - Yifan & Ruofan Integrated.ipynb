{
 "cells": [
  {
   "cell_type": "markdown",
   "metadata": {},
   "source": [
    "## 1.  Yifan's method\n",
    "Find word's similarity through modeling training"
   ]
  },
  {
   "cell_type": "code",
   "execution_count": 1,
   "metadata": {},
   "outputs": [
    {
     "name": "stderr",
     "output_type": "stream",
     "text": [
      "[nltk_data] Downloading package wordnet to\n",
      "[nltk_data]     C:\\Users\\hwk97\\AppData\\Roaming\\nltk_data...\n",
      "[nltk_data]   Package wordnet is already up-to-date!\n",
      "[nltk_data] Downloading package punkt to\n",
      "[nltk_data]     C:\\Users\\hwk97\\AppData\\Roaming\\nltk_data...\n",
      "[nltk_data]   Package punkt is already up-to-date!\n",
      "[nltk_data] Downloading package stopwords to\n",
      "[nltk_data]     C:\\Users\\hwk97\\AppData\\Roaming\\nltk_data...\n",
      "[nltk_data]   Package stopwords is already up-to-date!\n"
     ]
    }
   ],
   "source": [
    "from Data_Processor import *\n",
    "import numpy as np\n",
    "import matplotlib.pyplot as plt\n",
    "import matplotlib"
   ]
  },
  {
   "cell_type": "code",
   "execution_count": 2,
   "metadata": {},
   "outputs": [],
   "source": [
    "from gensim.test.utils import common_texts, get_tmpfile\n",
    "from gensim.models import Word2Vec\n",
    "from gensim.test.utils import datapath\n",
    "from gensim import utils"
   ]
  },
  {
   "cell_type": "code",
   "execution_count": 3,
   "metadata": {},
   "outputs": [],
   "source": [
    "model = gensim.models.Word2Vec.load('D')"
   ]
  },
  {
   "cell_type": "code",
   "execution_count": 4,
   "metadata": {},
   "outputs": [
    {
     "name": "stdout",
     "output_type": "stream",
     "text": [
      "apps 0.5752025246620178\n",
      "cust 0.5691397190093994\n",
      "automated 0.5496034622192383\n",
      "client 0.5471370220184326\n",
      "convenience 0.5385664701461792\n",
      "seamless 0.5369963049888611\n",
      "merchant 0.5285861492156982\n",
      "functionality 0.5226467847824097\n",
      "continuously 0.5213117599487305\n",
      "provider 0.5177848935127258\n",
      "online 0.5137568712234497\n",
      "capability 0.5116159319877625\n",
      "personalized 0.5113574862480164\n",
      "method 0.5082338452339172\n",
      "interface 0.4984561502933502\n",
      "vendor 0.49747660756111145\n",
      "device 0.496929794549942\n",
      "transaction 0.4869909882545471\n",
      "interaction 0.4842202365398407\n",
      "zelle 0.48402607440948486\n",
      "personalised 0.4822697043418884\n",
      "process 0.47558674216270447\n",
      "ui 0.47495782375335693\n",
      "app 0.4743165671825409\n",
      "frictionless 0.47399845719337463\n",
      "bofahelp 0.4709188938140869\n",
      "messaging 0.47006237506866455\n",
      "portal 0.46815064549446106\n",
      "subscription 0.4664432406425476\n",
      "costumer 0.46493059396743774\n",
      "mobile 0.4643592834472656\n",
      "workflow 0.4621668756008148\n",
      "product 0.4549829959869385\n",
      "platform 0.45130419731140137\n",
      "authentication 0.4493299126625061\n",
      "processing 0.448167622089386\n",
      "boa 0.44353151321411133\n",
      "access 0.4412110149860382\n",
      "flexibility 0.44010186195373535\n",
      "website 0.4383545219898224\n",
      "ebanking 0.4381179213523865\n",
      "temporarily 0.4379347562789917\n",
      "automatically 0.43738609552383423\n",
      "endtoend 0.4373660981655121\n",
      "digitally 0.4371371269226074\n",
      "wf 0.4350779950618744\n",
      "icicibankcare 0.4327707290649414\n",
      "account 0.43053871393203735\n",
      "loyalty 0.4279540479183197\n",
      "frustrating 0.42560648918151855\n"
     ]
    }
   ],
   "source": [
    "for item, prob in model.wv.most_similar(['user','customer','service'],topn=50):\n",
    "    print(item, prob)"
   ]
  },
  {
   "cell_type": "markdown",
   "metadata": {},
   "source": [
    "## 2.  Ruofan's method\n",
    "Find similar words through visulization and manually check"
   ]
  },
  {
   "cell_type": "code",
   "execution_count": 5,
   "metadata": {},
   "outputs": [
    {
     "name": "stdout",
     "output_type": "stream",
     "text": [
      "([4577, 4968, 4675, 4893, 4178, 5011, 5379, 5127, 3961, 3999, 3606, 5131, 4841, 4097, 3976, 5675, 4350, 3863, 3630, 3471, 3542, 4300, 3988, 5320, 3799, 3265, 3160, 3566, 3455, 3431, 3081, 3417, 3829, 4732, 4458, 4505], 151256)\n",
      "([4570, 4964, 4673, 4888, 4176, 5006, 5374, 5126, 3959, 3994, 3603, 5129, 4839, 4095, 3973, 5671, 4345, 3860, 3627, 3466, 3541, 4300, 3987, 5315, 3795, 3263, 3160, 3562, 3453, 3429, 3078, 3414, 3825, 4729, 4456, 4504], 151149)\n"
     ]
    }
   ],
   "source": [
    "dirlist=[\"../SentistrengthData/Morgan_Stanley_Weekly/Morgan_Stanley\"]\n",
    "DP=Data_Processor(start_month='2017-06',end_month='2020-05',\n",
    "                  template=dirlist)\n",
    "DP.readdata()\n",
    "print(DP.datanums())\n",
    "DP.specifylang()\n",
    "noise=DP.removenoise() \n",
    "DP.clean()\n",
    "print(DP.datanums())\n"
   ]
  },
  {
   "cell_type": "code",
   "execution_count": 6,
   "metadata": {},
   "outputs": [
    {
     "data": {
      "text/plain": [
       "4570"
      ]
     },
     "execution_count": 6,
     "metadata": {},
     "output_type": "execute_result"
    }
   ],
   "source": [
    "len(DP.data[0])"
   ]
  },
  {
   "cell_type": "code",
   "execution_count": 7,
   "metadata": {},
   "outputs": [],
   "source": [
    "#only save the data with positive/negative sentiment\n",
    "ndata=[]\n",
    "for month_data in DP.data:\n",
    "    current_month=[]\n",
    "    for item in month_data[:-1]:\n",
    "        if  item['positive']>2 or item['negative']<-2:\n",
    "            current_month.append(item)\n",
    "    ndata.append(current_month)\n",
    "    \n",
    "DP.data=ndata            "
   ]
  },
  {
   "cell_type": "code",
   "execution_count": 8,
   "metadata": {},
   "outputs": [],
   "source": [
    "months = DP.dlist\n",
    "\n",
    "def subanalyze(all_data,keywords): # data hierarchy: months*(text,score)*piece\n",
    "    pospolarity=[]\n",
    "    negpolarity=[]\n",
    "    freq=[]\n",
    "    for month_data in all_data:\n",
    "        pos=0\n",
    "        neg=0\n",
    "        count=0\n",
    "        for item in month_data:\n",
    "            for k in keywords:\n",
    "                if k in item['text'].lower():\n",
    "                    pos+=item['positive']\n",
    "                    neg+=item['negative']\n",
    "                    count+=1\n",
    "                    break\n",
    "        pospolarity.append(pos/max(1,count))\n",
    "        negpolarity.append(neg/max(1,count))\n",
    "        freq.append(count)\n",
    "    return pospolarity,negpolarity,freq\n",
    "\n",
    "def double(data,keyword_list):\n",
    "    app=subanalyze(data,keyword_list)\n",
    "    matplotlib.rcParams['figure.dpi'] = 100\n",
    "    fig, ax1 = plt.subplots()\n",
    "    ax1.plot(np.array(months),app[0],color='C1')\n",
    "    ax1.set_xticks(np.arange(36))\n",
    "    ax1.set_xticklabels([i if x%3==0 else '' for x,i in enumerate(months)],rotation=45)\n",
    "    ax1.set_ylabel('Positive')\n",
    "    for t in ax1.xaxis.get_ticklines():\n",
    "        t.set_visible(False)\n",
    "    for t in ax1.xaxis.get_ticklines()[::2][::3]:\n",
    "        t.set_visible(True)\n",
    "    ax2 = ax1.twinx()\n",
    "    for t in ax2.xaxis.get_ticklines():\n",
    "        t.set_visible(False)\n",
    "    for t in ax2.xaxis.get_ticklines()[::2][::3]:\n",
    "        t.set_visible(True)\n",
    "    ax2.set_xticks(np.arange(36))\n",
    "    ax2.set_xticklabels([i if x%3==0 else '' for x,i in enumerate(months)],rotation=45)\n",
    "    ax2.plot(months,app[1],color='C2')\n",
    "    ax2.set_ylabel('Negative')\n",
    "    ax1.set_title('Keywords: '+', '.join(keyword_list[:3]))\n",
    "    plt.show()\n",
    "    \n",
    "def trend(data,hint,keyword_list): # hint=0 for pos, 1 for neg\n",
    "    app=subanalyze(data,keyword_list)\n",
    "    matplotlib.rcParams['figure.dpi'] = 100\n",
    "    fig, ax1 = plt.subplots()\n",
    "    ax1.plot(np.array(months),app[hint],color='C'+str(hint+1))\n",
    "    ax1.set_xticks(np.arange(36))\n",
    "    ax1.set_xticklabels([i if x%3==0 else '' for x,i in enumerate(months)],rotation=45)\n",
    "    ax1.set_ylabel('Sentiment Polarity')\n",
    "    for t in ax1.xaxis.get_ticklines():\n",
    "        t.set_visible(False)\n",
    "    for t in ax1.xaxis.get_ticklines()[::2][::3]:\n",
    "        t.set_visible(True)\n",
    "    ax2 = ax1.twinx()\n",
    "    for t in ax2.xaxis.get_ticklines():\n",
    "        t.set_visible(False)\n",
    "    for t in ax2.xaxis.get_ticklines()[::2][::3]:\n",
    "        t.set_visible(True)\n",
    "    ax2.set_xticks(np.arange(36))\n",
    "    ax2.set_xticklabels([i if x%3==0 else '' for x,i in enumerate(months)],rotation=45)\n",
    "    ax2.bar(months,app[2],alpha=0.3)\n",
    "    ax2.set_ylabel('Sentiment Frequency')\n",
    "    ax1.set_title('Keywords: '+', '.join(keyword_list))\n",
    "    plt.show()\n",
    "    \n",
    "def all_trend(data,hint,keyword_list):\n",
    "    app=[subanalyze(i,keyword_list) for i in data]\n",
    "    matplotlib.rcParams['figure.dpi'] = 200\n",
    "    fig, ax = plt.subplots(2,2,sharex=True,sharey=True,figsize=(12,8))\n",
    "    for i in range(2):\n",
    "        for j in range(2):\n",
    "            temp=2*i+j\n",
    "            \n",
    "            ax[i][j].plot(np.array(months),app[temp][hint],color='C'+str(hint+1))\n",
    "            ax[i][j].set_xticks(np.arange(36))\n",
    "            ax[i][j].set_xticklabels([i if x%3==0 else '' for x,i in enumerate(months)],rotation=45)\n",
    "            if not j:\n",
    "                ax[i][j].set_ylabel('Sentiment Polarity')\n",
    "            for t in ax[i][j].xaxis.get_ticklines():\n",
    "                t.set_visible(False)\n",
    "            for t in ax[i][j].xaxis.get_ticklines()[::2][::3]:\n",
    "                t.set_visible(True)\n",
    "            ax2 = ax[i][j].twinx()\n",
    "            for t in ax2.xaxis.get_ticklines():\n",
    "                t.set_visible(False)\n",
    "            for t in ax2.xaxis.get_ticklines()[::2][::3]:\n",
    "                t.set_visible(True)\n",
    "            ax2.set_xticks(np.arange(36))\n",
    "            ax2.set_xticklabels([i if x%3==0 else '' for x,i in enumerate(months)],rotation=45)\n",
    "            ax2.bar(months,app[temp][2],alpha=0.3)\n",
    "            if j:\n",
    "                ax2.set_ylabel('Sentiment Frequency')\n",
    "            ax[i][j].set_title(category[temp])\n",
    "    plt.suptitle('Keywords: '+', '.join(keyword_list[:3]))\n",
    "    plt.show()\n",
    "\n",
    "def show(data,months,keywords,count=1):\n",
    "    result=[]\n",
    "    for m in range(len(months)):\n",
    "        for item in data[m]:\n",
    "            if sum([int(k in item['text'].lower()) for k in keywords])>=count:\n",
    "                result.append(item)\n",
    "    return sorted(result, key=lambda x: x['text'])"
   ]
  },
  {
   "cell_type": "code",
   "execution_count": 9,
   "metadata": {},
   "outputs": [
    {
     "data": {
      "image/png": "[encoded data removed]",
      "text/plain": [
       "<Figure size 600x400 with 2 Axes>"
      ]
     },
     "metadata": {
      "needs_background": "light"
     },
     "output_type": "display_data"
    }
   ],
   "source": [
    "trend(DP.data, 0, ['customer','client','service','user experience', 'patience', 'personalized'])"
   ]
  },
  {
   "cell_type": "markdown",
   "metadata": {},
   "source": [
    "### 2.1 Extract topic twitter texts\n",
    "Explore specifc topics and the texts that include them (with at least # count of words)"
   ]
  },
  {
   "cell_type": "code",
   "execution_count": 10,
   "metadata": {},
   "outputs": [
    {
     "name": "stdout",
     "output_type": "stream",
     "text": [
      "Morgan Stanley is an Investor Services Representative in NY Great opportunity for client service professionals Full description link to apply  3 -1 \n",
      "\n",
      "We are thrilled to announce Madhu Ghosh Head of Client Data Analytics Ops at Morgan Stanley as a speaker at Chief Data Analytics Officers Influencers Financial Services this February in NYC REGISTER today  4 -1 \n",
      "\n",
      "I am pleased to announce that I have accepted a position with Morgan Stanley in Chicago IL In the coming weeks I will take on the role serving as a Client Service Associate Im beyond excited to begin the career path that I have aspired to take since the age of Thank 3 -1 \n",
      "\n",
      "It is great to win new clients but perhaps an even bigger endorsement of Praemiums service and proprietary technology when an existing client deepens the relationship We are delighted to power Morgan Stanleys streamlined client portfolio experience  3 -1 \n",
      "\n",
      "Celebrating our stars Morgan Stanley recognizes our service professionals for putting our clients needs first  4 -1 \n",
      "\n",
      "Very appreciative of the opportunities we have at Morgan Stanley for our clients Thank you Sandra L Richards and Shelley OConnor for helping my team deliver best in class services to all of our clients in banking makes the dream  3 -1 \n",
      "\n",
      "On International Womens Day I would like to recognize Jackie Armstrong of the Buttonwood Group at Morgan Stanley Jackies tireless commitment to client service is the foundation for our teams success Nothing happens without her involvement Thank You 3 -1 \n",
      "\n",
      "Thank you Global Atlantic Financial Group for sponsoring my keynote presentations at the Morgan Stanley conference Its such a thrill working with two powerhouse organizations committed to providing exceptional products and service to advisors and clients across the nation  4 -1 \n",
      "\n",
      "Consolidation in financial services Morgan Stanley pays billion to takeover ETrade an online trading platform that specializes in retail clients Franklin Templeton an asset manager is buying rival Legg Mason The combined entity will manage trillionThe Economist 3 -1 \n",
      "\n",
      "Congrats to MorganStanleys client service center on achieving JD Power certification for outstanding phone support customer service for a second year in a row in its Cash Management Digital Platform Support and for the first time in its Global Stock Plan Services business  3 -1 \n",
      "\n",
      "Its great to hear at the Masters Club Conference how Morgan Stanley is trying to stay ahead of the curve when it comes to enhanced technologies services and products we offer to our clients  3 -1 \n",
      "\n",
      "I am excited to announce the formation of The Short Hills Group at Morgan Stanley Together we will expand and strengthen the services we offer to our clients To find out more and to see how we can help you plan to achieve your goals visit our website at  3 -1 \n",
      "\n",
      "Great night and turnout for the Morgan Stanley Digital Services client event at Bradley Fair sponsored by The Cunningham Brown Group  3 -1 \n",
      "\n",
      "I am very pleased to announce that I have been named to Morgan Stanleys prestigious Chairmans Club an elite group composed of the firms successful Financial Advisors This accolade recognizes consistent excellence in providing a wide range of services to clients 1 -5 \n",
      "\n",
      "Thank you Morgan Stanley for the lovely recognition for being named one of Working Mother Magazines Top Wealth Advisor Moms I love being of service to my clients and I am honored by their trust and confidence  3 -1 \n",
      "\n",
      "Congrats to MorganStanley for achieving JD Power certification for excellent customer service for phone support in their client service center Second year in a row for their Cash Management and Digital business line and a first award for Global Stock Plan Services  4 -1 \n",
      "\n",
      "Great question kriebernegg Our Morgan Stanley Online Client Service Center should be able to better assist you  3 -1 \n",
      "\n",
      "Business major Heather Lakner from Waldorf Md has accepted a position with MorganStanley as a client services associate Congratulations Heather  3 -1 \n",
      "\n",
      "Congrats to Morgan Stanleys client service center on achieving JD Power certification for outstanding phone support customer service for a second year in a row in its Cash Management and Digital Platform Support and for the first time in its Global Stock Plan Services business  3 -1 \n",
      "\n",
      "Congratulations to MorganStanley on receiving JD Power certification for outstanding client service experience for their Cash Management and Digital Platform Support Contact Center  3 -1 \n",
      "\n"
     ]
    }
   ],
   "source": [
    "result = []\n",
    "for item in show(DP.data,months,keywords=['client', 'service'], count=2):\n",
    "    if item['positive']>2 or item['negative']<-2:\n",
    "        result.append([item['text'], item['positive'], item['negative']])\n",
    "    #remove duplicates in list of tuples \n",
    "unique_result = [t for t in (set(tuple(item) for item in result))] \n",
    "for item in unique_result:\n",
    "    print(item[0], item[1], item[2],'\\n')"
   ]
  },
  {
   "cell_type": "code",
   "execution_count": 11,
   "metadata": {},
   "outputs": [
    {
     "name": "stdout",
     "output_type": "stream",
     "text": [
      "Excellent digital vision Deliver at the speed of our Clients  4 -1 \n",
      "\n",
      "Back from last weeks terrific Team Transformation Summit ready to share with clients Cant believe all the new digital features and safety measures that the firm is rolling out Proud to work for an industry leader  4 -1 \n",
      "\n",
      "Morgan Stanley is an Investor Services Representative in NY Great opportunity for client service professionals Full description link to apply  3 -1 \n",
      "\n",
      "Much like newspapers and magazines Traditional TV is under assault Hundreds if not thousands of cable satellite and digital channels Mass media is giving way to ultratargeted media Facebook Google digital networks all have tons of data on users So do you MS 2 -3 \n",
      "\n",
      "We are thrilled to announce Madhu Ghosh Head of Client Data Analytics Ops at Morgan Stanley as a speaker at Chief Data Analytics Officers Influencers Financial Services this February in NYC REGISTER today  4 -1 \n",
      "\n",
      "I am pleased to announce that I have accepted a position with Morgan Stanley in Chicago IL In the coming weeks I will take on the role serving as a Client Service Associate Im beyond excited to begin the career path that I have aspired to take since the age of Thank 3 -1 \n",
      "\n",
      "It is great to win new clients but perhaps an even bigger endorsement of Praemiums service and proprietary technology when an existing client deepens the relationship We are delighted to power Morgan Stanleys streamlined client portfolio experience  3 -1 \n",
      "\n",
      "Celebrating our stars Morgan Stanley recognizes our service professionals for putting our clients needs first  4 -1 \n",
      "\n",
      "Very appreciative of the opportunities we have at Morgan Stanley for our clients Thank you Sandra L Richards and Shelley OConnor for helping my team deliver best in class services to all of our clients in banking makes the dream  3 -1 \n",
      "\n",
      "Excited to share that MorganStanley has launched a new encrypted document sharing portal for clients in collaboration with Box Check out Morgan Stanleys Digital Vault  3 -1 \n",
      "\n",
      "On International Womens Day I would like to recognize Jackie Armstrong of the Buttonwood Group at Morgan Stanley Jackies tireless commitment to client service is the foundation for our teams success Nothing happens without her involvement Thank You 3 -1 \n",
      "\n",
      "Interesting news here Morgan Stanley has introduced a new app which will enable its clients to incorporate social and environmental factors into their investment portfolios congratulations MorganStanley 3 -1 \n",
      "\n",
      "MorganStanley Pathetic Stockplan connect mobile app It doesnt even have verification process reenter password before you place an order App users are at loss Disgusting 1 -3 \n",
      "\n",
      "Thank you Global Atlantic Financial Group for sponsoring my keynote presentations at the Morgan Stanley conference Its such a thrill working with two powerhouse organizations committed to providing exceptional products and service to advisors and clients across the nation  4 -1 \n",
      "\n",
      "Consolidation in financial services Morgan Stanley pays billion to takeover ETrade an online trading platform that specializes in retail clients Franklin Templeton an asset manager is buying rival Legg Mason The combined entity will manage trillionThe Economist 3 -1 \n",
      "\n",
      "Congrats to MorganStanleys client service center on achieving JD Power certification for outstanding phone support customer service for a second year in a row in its Cash Management Digital Platform Support and for the first time in its Global Stock Plan Services business  3 -1 \n",
      "\n",
      "Its great to hear at the Masters Club Conference how Morgan Stanley is trying to stay ahead of the curve when it comes to enhanced technologies services and products we offer to our clients  3 -1 \n",
      "\n",
      "I am excited to announce the formation of The Short Hills Group at Morgan Stanley Together we will expand and strengthen the services we offer to our clients To find out more and to see how we can help you plan to achieve your goals visit our website at  3 -1 \n",
      "\n",
      "Great night and turnout for the Morgan Stanley Digital Services client event at Bradley Fair sponsored by The Cunningham Brown Group  3 -1 \n",
      "\n",
      " Not great signs for HS if true Morgan Stanley estimates m users were lost from to while paid users dropped k Big app developers NexonMobile zynga and Rovio all saw similar declines in paid users in  2 -3 \n",
      "\n",
      "I am very pleased to announce that I have been named to Morgan Stanleys prestigious Chairmans Club an elite group composed of the firms successful Financial Advisors This accolade recognizes consistent excellence in providing a wide range of services to clients 1 -5 \n",
      "\n",
      "Thank you Morgan Stanley for the lovely recognition for being named one of Working Mother Magazines Top Wealth Advisor Moms I love being of service to my clients and I am honored by their trust and confidence  3 -1 \n",
      "\n",
      "The MorganStanley Mobile App for iPhone iPad and Android made exclusively for our clients  2 -3 \n",
      "\n",
      "heleumapp Hi Greg hope you are well We just formed a JV with Pace Ellsworth CEO of Heleum via this partnership we help our Instl clients achieve ALPHA in the very profitable infrastructure side of the Bitcoin business Lets talk when soon Ty  3 -1 \n",
      "\n",
      "Congrats to MorganStanley for achieving JD Power certification for excellent customer service for phone support in their client service center Second year in a row for their Cash Management and Digital business line and a first award for Global Stock Plan Services  4 -1 \n",
      "\n",
      "Great question kriebernegg Our Morgan Stanley Online Client Service Center should be able to better assist you  3 -1 \n",
      "\n",
      "Business major Heather Lakner from Waldorf Md has accepted a position with MorganStanley as a client services associate Congratulations Heather  3 -1 \n",
      "\n",
      "rd prize for Inclusive STEM Hackathon goes to the team which developed an app which notifies the visually impaired users if someone is pointing towards them Microsoft MorganStanley intel  3 -2 \n",
      "\n",
      "Congrats to Morgan Stanleys client service center on achieving JD Power certification for outstanding phone support customer service for a second year in a row in its Cash Management and Digital Platform Support and for the first time in its Global Stock Plan Services business  3 -1 \n",
      "\n",
      "Congratulations to MorganStanley on receiving JD Power certification for outstanding client service experience for their Cash Management and Digital Platform Support Contact Center  3 -1 \n",
      "\n"
     ]
    }
   ],
   "source": [
    "for item in show(DP.data,months,keywords=['app ','user','client','digital'], count=2):\n",
    "    if item['positive']>2 or item['negative']<-2:\n",
    "        result.append([item['text'], item['positive'], item['negative']])\n",
    "    #remove duplicates in list of tuples \n",
    "unique_result = [t for t in (set(tuple(item) for item in result))] \n",
    "for item in unique_result:\n",
    "    print(item[0], item[1], item[2],'\\n')"
   ]
  },
  {
   "cell_type": "code",
   "execution_count": 12,
   "metadata": {},
   "outputs": [
    {
     "name": "stdout",
     "output_type": "stream",
     "text": [
      "rd prize for Inclusive STEM Hackathon goes to the team which developed an app which notifies the visually impaired users if someone is pointing towards them Microsoft MorganStanley intel  3 -2 \n",
      "\n",
      "MorganStanley Pathetic Stockplan connect mobile app It doesnt even have verification process reenter password before you place an order App users are at loss Disgusting 1 -3 \n",
      "\n",
      " Not great signs for HS if true Morgan Stanley estimates m users were lost from to while paid users dropped k Big app developers NexonMobile zynga and Rovio all saw similar declines in paid users in  2 -3 \n",
      "\n"
     ]
    }
   ],
   "source": [
    "result = []\n",
    "for item in show(DP.data,months,keywords=['app ','user'], count=2):\n",
    "    if item['positive']>2 or item['negative']<-2:\n",
    "        result.append([item['text'], item['positive'], item['negative']])\n",
    "    #remove duplicates in list of tuples \n",
    "unique_result = [t for t in (set(tuple(item) for item in result))] \n",
    "for item in unique_result:\n",
    "    print(item[0], item[1], item[2],'\\n')"
   ]
  },
  {
   "cell_type": "code",
   "execution_count": 13,
   "metadata": {},
   "outputs": [
    {
     "name": "stdout",
     "output_type": "stream",
     "text": [
      "Pretty cool to trade Stocks and ETFs with no fees using the RobinhoodApp platform been doing that for a few weeks now Learnt today that now we can trade Options too Im wondering why I still have my MorganStanley brokerage account  3 -2 \n",
      "\n",
      "TankandBarrel RT KylePorterCBS Justin Rose looks like he got a free hat for putting in his Morgan Stanley online account and is mega focused on breaking for the first time on the Black on his only Friday off this month  3 -2 \n",
      "\n",
      "Ive just been looking at what Twitter thinks Im into settings account my dataAngelina Jolie Golf badminton bella hajid apple Morgan Stanley Michael Gove sky news Where do they get this rubbish from  1 -3 \n",
      "\n",
      "RobinhoodApp Hurting a lot of people lately with your crashes Time to get serious and utilize an enterprise brokerage account MorganStanley whats up 2 -3 \n",
      "\n",
      "jimcramer Curious Jim your take on the news Morgan Stanley Ubers underwriter pushed a short product to locked up lyft investors How is a retail investor supposed to account for garbage like this when doing homework Pretty bad look for wall street 3 -3 \n",
      "\n",
      "Justin Rose looks like he got a free hat for putting in his Morgan Stanley online account and is mega focused on breaking for the first time on the Black on his only Friday off this month  3 -1 \n",
      "\n",
      "Im with yaim outlook weeks ago i pulled half of my k from Morgan Stanley and put into my own manage account Tired of paying them for nothing Now I have cash to invest at these lowsso excited Plan is to evaluate my balance vs the i left with them 3 -2 \n",
      "\n",
      "The same company who robs our tax dollars through magic accounting and lobbies for deregulation look no further than why states cannot afford to fix roads 3 -1 \n",
      "\n",
      "ajc SenatorLoeffler The initial look at Sen Loefflers filings indicate she did not panic sell after the Jan brief It looks more like her husband did Look at her Fidelity and Morgan Stanley accounts She had significant positions of her own and didnt touch them  3 -1 \n",
      "\n",
      "Waitrapp is acquiring bitesquad Bite Squad for million This comes as delivery realm continues to grow with Morgan Stanley predicting that by the food delivery industry could account for of all restaurant salesa b opportunity  3 -2 \n",
      "\n",
      "Was looking at friends investment accounts in US with Morgan Stanley Fidelity others Every one that I saw lost significant money over the last year Disgrace Investment managers all collect fees regardless Would have done better to put the cash under the mattress 2 -4 \n",
      "\n",
      "Moving to etrade starting tomorrow Their mobile app looks good so far Will keep IBKR acc open as well but their fees are confusing Im very excited and hope MorganStanley will make etrade more efficient Bye bye TDAmeritrade  4 -2 \n",
      "\n",
      "Were going to have a great turnout for the Gayla Dont wait to get your ticket Thank you to these new sponsors Looks Hair Design Individual Family Choices Program Morgan Stanley Tom Hall and a donation in honor of The Lesbian Connection  3 -1 \n",
      "\n",
      "Really disappointed to see askRegions on this list I have a hefty account with them Moving to another bank is not straightforward because Im an expat but Ill look into it 1 -3 \n",
      "\n",
      "C doing another dispatches on the the sacked EU whislte blowers the dead investigative journalists and the unaudited accounts in Brussels Perhaps a look at the RoI EU funding for Goldman sachs Morgan Stanley for their lobbying as well 1 -3 \n",
      "\n",
      "Opened Morgan Stanley app WTF One account went up k today Still wondering if its a mistake  1 -3 \n",
      "\n",
      " like MorganStanley see a less gloomy outlook for EMs in on account of potential FED slowing on the hiking cycle If that happens EM policy will prove accommodative spur growth Are you well positioned to take advantage per your investment portfolio 2 -3 \n",
      "\n",
      "Look at this awesome project by Morgan Stanley the Hobbes programming language Developed designed with low latency execution for trading processes  3 -2 \n",
      "\n",
      "The new StockPlan webapp of MorganStanley is absolutely unusable Old one was ugly as hell but it was possible understand and use The new one is other way around Unfortunately I need to do things there rather than look at nicely aligned and colored makesnosense stuff 2 -3 \n",
      "\n",
      "Morgan Stanley part of the financial crisis Their numbers are false projections are lies they are broke Robbing Peter to pay Paul Glorious Madoff look alike Numbers dont like but clearly accountants cant count anymore either 2 -3 \n",
      "\n",
      "Did the Iowa Democratic Party hire Morgan Stanley to build the votecounting app for its firstinthenation caucus Because last nights catastrophe made the Facebook IPO look like an organized orderly market debut Ref Zerohedge 2 -4 \n",
      "\n"
     ]
    }
   ],
   "source": [
    "result = []\n",
    "for item in show(DP.data,months,keywords=['app ', 'design', 'look', 'account'], count=2):\n",
    "    if item['positive']>2 or item['negative']<-2:\n",
    "        result.append([item['text'], item['positive'], item['negative']])\n",
    "    #remove duplicates in list of tuples \n",
    "unique_result = [t for t in (set(tuple(item) for item in result))] \n",
    "for item in unique_result:\n",
    "    print(item[0], item[1], item[2],'\\n')"
   ]
  },
  {
   "cell_type": "markdown",
   "metadata": {},
   "source": [
    "### 2.2 Extract sentiment frequency\n",
    "Explore each months various (pos,neg) sentiment combinations frequency"
   ]
  },
  {
   "cell_type": "code",
   "execution_count": 14,
   "metadata": {},
   "outputs": [
    {
     "name": "stdout",
     "output_type": "stream",
     "text": [
      "positive negative count\n"
     ]
    },
    {
     "data": {
      "text/plain": [
       "Counter({(2, -3): 111,\n",
       "         (3, -1): 700,\n",
       "         (1, -4): 64,\n",
       "         (3, -3): 40,\n",
       "         (3, -2): 106,\n",
       "         (1, -3): 232,\n",
       "         (4, -3): 4,\n",
       "         (3, -4): 12,\n",
       "         (2, -4): 27,\n",
       "         (4, -2): 10,\n",
       "         (4, -1): 68,\n",
       "         (2, -5): 1,\n",
       "         (4, -5): 1,\n",
       "         (4, -4): 3,\n",
       "         (5, -2): 2,\n",
       "         (5, -1): 1})"
      ]
     },
     "execution_count": 14,
     "metadata": {},
     "output_type": "execute_result"
    }
   ],
   "source": [
    "from collections import Counter\n",
    "idx = months.index('2018-05')\n",
    "print(\"positive\", \"negative\", \"count\")\n",
    "Counter([(item['positive'],item['negative']) for item in DP.data[idx]])"
   ]
  },
  {
   "cell_type": "code",
   "execution_count": null,
   "metadata": {},
   "outputs": [],
   "source": []
  },
  {
   "cell_type": "code",
   "execution_count": null,
   "metadata": {},
   "outputs": [],
   "source": []
  },
  {
   "cell_type": "markdown",
   "metadata": {},
   "source": [
    "### 2.3 Explore topic modeling\n",
    "Topic modeling under certain topic -> extract smaller topics/aspects of a certain topic"
   ]
  },
  {
   "cell_type": "code",
   "execution_count": 15,
   "metadata": {},
   "outputs": [],
   "source": [
    "import gensim\n",
    "from gensim import corpora\n",
    "from gensim.models.ldamodel import LdaModel\n",
    "from gensim.models import Word2Vec, CoherenceModel\n",
    "\n",
    "import pprint\n",
    "\n",
    "from nltk.corpus import stopwords\n",
    "\n",
    "from sklearn.feature_extraction.text import TfidfVectorizer\n",
    "from sklearn.decomposition import NMF\n",
    "\n",
    "#set topic number here\n",
    "num_topics = 5\n",
    "num_words = 15\n",
    "\n",
    "stop_lists = set(stopwords.words('english'))\n",
    "stop_lists.update(('http','llc','inc', 'twitter', 'tweet','morgan', 'stanley', 'morganstanley'))"
   ]
  },
  {
   "cell_type": "code",
   "execution_count": 16,
   "metadata": {},
   "outputs": [],
   "source": [
    "def LDA(texts, topics=10, num_words=15, dictionary = None):\n",
    "    if not dictionary:\n",
    "        dictionary = corpora.Dictionary(texts) # texts: list of list of words\n",
    "    corpus = [dictionary.doc2bow(text) for text in texts]\n",
    "    num_topics = topics #The number of topics that should be generated\n",
    "    passes = 30\n",
    "    lda = LdaModel(corpus,\n",
    "              id2word=dictionary,\n",
    "              alpha = 'auto',\n",
    "              num_topics=num_topics,\n",
    "              passes=passes)\n",
    "    \n",
    "    return lda"
   ]
  },
  {
   "cell_type": "code",
   "execution_count": 17,
   "metadata": {},
   "outputs": [],
   "source": [
    "#Explore app design topic in all months\n",
    "result = []\n",
    "for item in show(DP.data,months,keywords=['app ', 'design', 'look', 'account'], count=2):\n",
    "    if item['positive']>2 or item['negative']<-2:\n",
    "        result.append(item['text'])\n",
    "#remove duplicates in list of tuples \n",
    "unique_result_token = [[token for token in sent.split(\" \") if len(token)>=3 and (token.lower() not in stop_lists)]\n",
    "                           for sent in list(set(result))]\n",
    "unique_result_string = [\" \".join(tokens) for tokens in unique_result_token]"
   ]
  },
  {
   "cell_type": "markdown",
   "metadata": {},
   "source": [
    "#### 2.3.1 LDA method - using frequency"
   ]
  },
  {
   "cell_type": "code",
   "execution_count": 18,
   "metadata": {},
   "outputs": [
    {
     "name": "stdout",
     "output_type": "stream",
     "text": [
      "[   (   0,\n",
      "        '0.018*\"looks\" + 0.018*\"like\" + 0.018*\"account\" + 0.013*\"excited\" + '\n",
      "        '0.013*\"etrade\" + 0.013*\"online\" + 0.013*\"month\" + 0.013*\"mega\" + '\n",
      "        '0.013*\"got\" + 0.013*\"focused\" + 0.013*\"hat\" + 0.013*\"putting\" + '\n",
      "        '0.013*\"Justin\" + 0.013*\"Black\" + 0.013*\"time\"'),\n",
      "    (   1,\n",
      "        '0.017*\"accounts\" + 0.009*\"account\" + 0.009*\"look\" + 0.009*\"last\" + '\n",
      "        '0.009*\"investment\" + 0.009*\"looking\" + 0.009*\"put\" + 0.009*\"fees\" + '\n",
      "        '0.009*\"one\" + 0.009*\"significant\" + 0.009*\"done\" + 0.009*\"collect\" + '\n",
      "        '0.009*\"money\" + 0.009*\"mattress\" + 0.009*\"better\"'),\n",
      "    (   2,\n",
      "        '0.019*\"new\" + 0.013*\"look\" + 0.013*\"Look\" + 0.013*\"get\" + 0.013*\"one\" '\n",
      "        '+ 0.007*\"Thank\" + 0.007*\"Program\" + 0.007*\"Looks\" + 0.007*\"Lesbian\" + '\n",
      "        '0.007*\"Individual\" + 0.007*\"Tom\" + 0.007*\"Connection\" + '\n",
      "        '0.007*\"Design\" + 0.007*\"Choices\" + 0.007*\"Hair\"'),\n",
      "    (   3,\n",
      "        '0.017*\"account\" + 0.017*\"app\" + 0.017*\"like\" + 0.010*\"look\" + '\n",
      "        '0.010*\"WTF\" + 0.010*\"wondering\" + 0.010*\"today\" + 0.010*\"went\" + '\n",
      "        '0.010*\"mistake\" + 0.010*\"One\" + 0.010*\"Opened\" + 0.010*\"Still\" + '\n",
      "        '0.010*\"market\" + 0.010*\"made\" + 0.010*\"organized\"'),\n",
      "    (   4,\n",
      "        '0.026*\"account\" + 0.020*\"look\" + 0.014*\"trade\" + 0.014*\"Pretty\" + '\n",
      "        '0.014*\"delivery\" + 0.008*\"like\" + 0.008*\"news\" + 0.008*\"fees\" + '\n",
      "        '0.008*\"wondering\" + 0.008*\"RobinhoodApp\" + 0.008*\"today\" + '\n",
      "        '0.008*\"brokerage\" + 0.008*\"Learnt\" + 0.008*\"Options\" + 0.008*\"using\"')]\n"
     ]
    }
   ],
   "source": [
    "lda_model = LDA(unique_result_token, topics=num_topics, num_words=num_words)\n",
    "\n",
    "pp = pprint.PrettyPrinter(indent=4)\n",
    "pp.pprint(lda_model.print_topics(num_words=num_words))"
   ]
  },
  {
   "cell_type": "markdown",
   "metadata": {},
   "source": [
    "#### 2.3.2 NMF method - using matrix factorization"
   ]
  },
  {
   "cell_type": "code",
   "execution_count": 19,
   "metadata": {},
   "outputs": [
    {
     "name": "stdout",
     "output_type": "stream",
     "text": [
      "Top 15 words for topic #0:\n",
      "['moving', 'see', 'looks', 'take', 'news', 'pretty', 'app', 'significant', 'fidelity', 'dont', 'another', 'last', 'accounts', 'like', 'look']\n",
      "\n",
      "\n",
      "Top 15 words for topic #1:\n",
      "['app', 'fees', 'time', 'take', 'looking', 'weeks', 'get', 'pretty', 'today', 'wondering', 'still', 'news', 'robinhoodapp', 'brokerage', 'account']\n",
      "\n",
      "\n",
      "Top 15 words for topic #2:\n",
      "['time', 'breaking', 'black', 'rose', 'got', 'first', 'month', 'mega', 'focused', 'free', 'justin', 'friday', 'hat', 'putting', 'online']\n",
      "\n",
      "\n",
      "Top 15 words for topic #3:\n",
      "['fees', 'robinhoodapp', 'brokerage', 'significant', 'fidelity', 'investment', 'time', 'news', 'looking', 'like', 'looks', 'one', 'get', 'dont', 'new']\n",
      "\n",
      "\n",
      "Top 15 words for topic #4:\n",
      "['last', 'take', 'looks', 'app', 'cash', 'put', 'fees', 'accounts', 'another', 'outlook', 'see', 'excited', 'moving', 'investment', 'well']\n",
      "\n",
      "\n"
     ]
    }
   ],
   "source": [
    "tfidf_vect = TfidfVectorizer(max_df=0.8, min_df=2, stop_words=stop_lists)\n",
    "doc_term_matrix = tfidf_vect.fit_transform(unique_result_string) #use string dato to transform\n",
    "nmf = NMF(n_components=num_topics, random_state=42)\n",
    "nmf.fit(doc_term_matrix)\n",
    "\n",
    "for i,topic in enumerate(nmf.components_):\n",
    "    print(f'Top {num_words} words for topic #{i}:')\n",
    "    print([tfidf_vect.get_feature_names()[i] for i in topic.argsort()[-num_words:]])\n",
    "    print('\\n')"
   ]
  },
  {
   "cell_type": "code",
   "execution_count": null,
   "metadata": {},
   "outputs": [],
   "source": []
  }
 ],
 "metadata": {
  "kernelspec": {
   "display_name": "Python 3",
   "language": "python",
   "name": "python3"
  },
  "language_info": {
   "codemirror_mode": {
    "name": "ipython",
    "version": 3
   },
   "file_extension": ".py",
   "mimetype": "text/x-python",
   "name": "python",
   "nbconvert_exporter": "python",
   "pygments_lexer": "ipython3",
   "version": "3.7.4"
  }
 },
 "nbformat": 4,
 "nbformat_minor": 2
}
