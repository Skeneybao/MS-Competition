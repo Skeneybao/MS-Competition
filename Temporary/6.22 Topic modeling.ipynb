{
 "cells": [
  {
   "cell_type": "code",
   "execution_count": 9,
   "metadata": {},
   "outputs": [],
   "source": [
    "import os\n",
    "import time\n",
    "\n",
    "import pandas as pd\n",
    "import numpy as np\n",
    "import json\n",
    "import matplotlib.pyplot as plt\n",
    "import re\n",
    "import matplotlib\n",
    "\n",
    "from nltk.stem.snowball import SnowballStemmer\n",
    "import nltk\n",
    "import gensim\n",
    "import spacy\n",
    "\n",
    "import matplotlib.cm as cm\n",
    "\n",
    "stemmer = SnowballStemmer(\"english\")\n",
    "nlp = spacy.load(\"en_core_web_sm\")"
   ]
  },
  {
   "cell_type": "code",
   "execution_count": 10,
   "metadata": {},
   "outputs": [],
   "source": [
    "from tool import *\n",
    "# unique(x)\n",
    "# find_kol(data,rank)\n",
    "# unique_time(data)\n",
    "# exforeign(data)\n",
    "# duplicate(data)\n",
    "# remove_link(data)\n",
    "# remove_sign(data)\n",
    "# remove_rubbish(data)\n",
    "# total_clean(indata)\n",
    "# toword(data,stem=False,stop=True) # return list of list\n",
    "# get_words(url), pos, neg, opinion\n",
    "# debug2(sentence)\n",
    "# month(start,end)\n",
    "# search(data,keywords)\n",
    "# text(data)\n",
    "def find_user(data,screen_name):\n",
    "    result=[]\n",
    "    k=None\n",
    "    for i in data:\n",
    "        if i['screen_name']==screen_name:\n",
    "            result.append(i['text'])\n",
    "            k=i\n",
    "    return result,i"
   ]
  },
  {
   "cell_type": "code",
   "execution_count": 11,
   "metadata": {},
   "outputs": [],
   "source": [
    "otherwords={'hi','wealthfront','betterment','robo','roboadvisor','roboadvisors',\n",
    "            'wealthfronts','happy','im','vs','thanks','like','love','yet','yeah','via','want','one','a','an','advisor',\n",
    "            'advisors','dont','didnt','financial','investment','wealth','finance'}\n",
    "\n",
    "otherwords=otherwords.union(set(gensim.parsing.preprocessing.STOPWORDS))\n",
    "def LDA(data, topics, words,otherwords):\n",
    "    import gensim\n",
    "    from gensim import corpora\n",
    "    from gensim.models.ldamodel import LdaModel\n",
    "    texts=toword(data,stem=False,lemma=True,stop=True,otherwords=otherwords)\n",
    "    dictionary = corpora.Dictionary(texts)\n",
    "    corpus = [dictionary.doc2bow(text) for text in texts]\n",
    "    \n",
    "    lda = LdaModel(corpus,id2word=dictionary,num_topics=topics,passes=20)\n",
    "    temp=lda.print_topics(num_words=words)\n",
    "    return [i[1] for i in temp]\n",
    "\n",
    "def NMF(data,topics,words,otherwords):\n",
    "    from sklearn.feature_extraction.text import TfidfVectorizer\n",
    "    from sklearn.decomposition import NMF\n",
    "    string=[' '.join(i) for i in toword(data,stem=False,lemma=True,stop=True,otherwords=otherwords)]\n",
    "    import gensim\n",
    "    STOPWORDS= set(nltk.corpus.stopwords.words('english')).union(otherwords)\n",
    "    tfidf_vect = TfidfVectorizer(max_df=0.8, min_df=2, stop_words=STOPWORDS)\n",
    "    doc_term_matrix = tfidf_vect.fit_transform(string)\n",
    "    nmf = NMF(n_components=topics)\n",
    "    nmf.fit(doc_term_matrix)\n",
    "    \n",
    "    return [' + '.join([\"\\\"{}\\\"\".format(tfidf_vect.get_feature_names()[i]) for i in topic.argsort()[-words:]]) for topic in nmf.components_]"
   ]
  },
  {
   "cell_type": "code",
   "execution_count": null,
   "metadata": {},
   "outputs": [],
   "source": []
  },
  {
   "cell_type": "code",
   "execution_count": 4,
   "metadata": {
    "scrolled": true
   },
   "outputs": [
    {
     "name": "stdout",
     "output_type": "stream",
     "text": [
      "1945\n",
      "371\n"
     ]
    }
   ],
   "source": [
    "data0=json.load(open('./data/Wealthfront/Wealthfront2017-06.json'))\n",
    "print(len(data0))\n",
    "data=total_clean(data0)\n",
    "print(len(data))"
   ]
  },
  {
   "cell_type": "code",
   "execution_count": 5,
   "metadata": {},
   "outputs": [
    {
     "data": {
      "text/plain": [
       "['0.014*\"new\" + 0.013*\"factor\" + 0.010*\"redesign\" + 0.008*\"client\" + 0.008*\"week\" + 0.008*\"passive\" + 0.006*\"open\"',\n",
       " '0.016*\"indexing\" + 0.013*\"fund\" + 0.010*\"advanced\" + 0.010*\"market\" + 0.010*\"personal\" + 0.010*\"capital\" + 0.007*\"cost\"',\n",
       " '0.014*\"use\" + 0.011*\"work\" + 0.008*\"people\" + 0.008*\"know\" + 0.008*\"thats\" + 0.008*\"come\" + 0.008*\"straying\"',\n",
       " '0.016*\"smart\" + 0.016*\"beta\" + 0.011*\"year\" + 0.008*\"know\" + 0.008*\"help\" + 0.008*\"best\" + 0.008*\"design\"',\n",
       " '0.016*\"fee\" + 0.016*\"link\" + 0.013*\"friend\" + 0.010*\"free\" + 0.010*\"posted\" + 0.008*\"trying\" + 0.007*\"rachleff\"',\n",
       " '0.025*\"great\" + 0.016*\"look\" + 0.010*\"account\" + 0.010*\"week\" + 0.006*\"guy\" + 0.006*\"marketing\" + 0.006*\"index\"',\n",
       " '0.061*\"andy\" + 0.059*\"rachleff\" + 0.048*\"growing\" + 0.046*\"corner\" + 0.045*\"founder\" + 0.035*\"business\" + 0.010*\"better\"',\n",
       " '0.013*\"hard\" + 0.013*\"strategy\" + 0.013*\"customer\" + 0.009*\"business\" + 0.009*\"good\" + 0.009*\"blog\" + 0.009*\"work\"',\n",
       " '0.050*\"feel\" + 0.037*\"human\" + 0.034*\"trying\" + 0.023*\"look\" + 0.015*\"use\" + 0.010*\"manage\" + 0.010*\"good\"',\n",
       " '0.019*\"indexing\" + 0.017*\"beta\" + 0.014*\"smart\" + 0.013*\"advanced\" + 0.011*\"500k\" + 0.008*\"work\" + 0.008*\"new\"']"
      ]
     },
     "execution_count": 5,
     "metadata": {},
     "output_type": "execute_result"
    }
   ],
   "source": [
    "LDA(data,10,7,otherwords)"
   ]
  },
  {
   "cell_type": "code",
   "execution_count": 20,
   "metadata": {},
   "outputs": [
    {
     "data": {
      "text/plain": [
       "['Burton Malkiel is straying from his Gospel and starts promoting Smart Beta Macht ja Wealthfront auch ',\n",
       " ' has in effect been expensive beta Burt Malkiel presents the approach to Smart Beta ',\n",
       " 'Why Wealthfronts Smart Beta ',\n",
       " 'Malkiels Smart Beta critique was deleted from the WealthFront website ',\n",
       " 'Wealthfront macht aber gerade erst Smart Beta ',\n",
       " 'Smart beta gets an important stamp of approval Burt Malkiel but only when fees are low ',\n",
       " 'But now youre claiming youve found the Smart Beta strategy that solves the performance problem also This is a bad look',\n",
       " 'Strange to see WealthFront and other Robos pivoting towards Smart Beta after trashing it for years',\n",
       " 'With Advanced Indexing multifactor smart beta overlay Wealthfront Pivots To Embrace Smart Beta via ',\n",
       " '1Wow Wealthfront turns to smart beta ',\n",
       " 'Interesting but needs more detail on how its different from other smart beta products',\n",
       " 'Why is now embracing smart beta strategies ',\n",
       " 'Wonder what thinks about smart beta',\n",
       " 'In 2015 Wealthfront said smart beta is stupid Too bad they were so quotable ',\n",
       " 'Wealthfront just launch Advanced Indexing basically Smart Beta via factor modeling and a redesign ']"
      ]
     },
     "execution_count": 20,
     "metadata": {},
     "output_type": "execute_result"
    }
   ],
   "source": [
    "text(search(data,['beta']))"
   ]
  },
  {
   "cell_type": "code",
   "execution_count": null,
   "metadata": {},
   "outputs": [],
   "source": []
  },
  {
   "cell_type": "code",
   "execution_count": 13,
   "metadata": {},
   "outputs": [],
   "source": [
    "root_path=os.getcwd()\n",
    "category=os.listdir(root_path+'\\\\data\\\\')"
   ]
  },
  {
   "cell_type": "code",
   "execution_count": 14,
   "metadata": {},
   "outputs": [],
   "source": [
    "m=month('2017-06','2020-05')\n",
    "metadata=[]\n",
    "for i in m:\n",
    "    temp=[]\n",
    "    for j in ['Betterment','Wealthfront','RoboAdvisor',]:\n",
    "        try:\n",
    "            temp+=json.load(open(root_path+'\\\\data\\\\{}\\\\{}{}.json'.format(j,j,i)))\n",
    "        except:\n",
    "            pass\n",
    "    metadata.append(total_clean(temp))"
   ]
  },
  {
   "cell_type": "code",
   "execution_count": 15,
   "metadata": {},
   "outputs": [
    {
     "data": {
      "text/plain": [
       "1114"
      ]
     },
     "execution_count": 15,
     "metadata": {},
     "output_type": "execute_result"
    }
   ],
   "source": [
    "len(metadata[0])"
   ]
  },
  {
   "cell_type": "code",
   "execution_count": 22,
   "metadata": {
    "scrolled": true
   },
   "outputs": [
    {
     "data": {
      "text/plain": [
       "['0.080*\"macht\" + 0.080*\"gerade\" + 0.080*\"erst\" + 0.080*\"aber\" + 0.080*\"smart\" + 0.080*\"beta\" + 0.007*\"think\"',\n",
       " '0.013*\"smart\" + 0.013*\"beta\" + 0.013*\"different\" + 0.013*\"think\" + 0.013*\"embracing\" + 0.013*\"bad\" + 0.013*\"20\"',\n",
       " '0.116*\"beta\" + 0.116*\"smart\" + 0.048*\"indexing\" + 0.048*\"advanced\" + 0.025*\"solves\" + 0.025*\"problem\" + 0.025*\"look\"',\n",
       " '0.142*\"beta\" + 0.142*\"smart\" + 0.032*\"burt\" + 0.032*\"important\" + 0.032*\"get\" + 0.032*\"fee\" + 0.032*\"approval\"',\n",
       " '0.129*\"smart\" + 0.129*\"beta\" + 0.051*\"malkiel\" + 0.027*\"burton\" + 0.027*\"promoting\" + 0.027*\"straying\" + 0.027*\"start\"',\n",
       " '0.074*\"bad\" + 0.074*\"said\" + 0.074*\"2015\" + 0.074*\"quotable\" + 0.074*\"stupid\" + 0.074*\"smart\" + 0.074*\"beta\"',\n",
       " '0.080*\"website\" + 0.080*\"critique\" + 0.080*\"malkiels\" + 0.080*\"deleted\" + 0.080*\"beta\" + 0.080*\"smart\" + 0.007*\"strategy\"',\n",
       " '0.059*\"strategy\" + 0.059*\"panel\" + 0.059*\"expert\" + 0.059*\"20\" + 0.059*\"jun\" + 0.059*\"comparison\" + 0.059*\"tue\"',\n",
       " '0.013*\"beta\" + 0.013*\"smart\" + 0.013*\"interesting\" + 0.013*\"bad\" + 0.013*\"turn\" + 0.013*\"different\" + 0.013*\"1wow\"',\n",
       " '0.013*\"smart\" + 0.013*\"beta\" + 0.013*\"different\" + 0.013*\"need\" + 0.013*\"turn\" + 0.013*\"strategy\" + 0.013*\"website\"']"
      ]
     },
     "execution_count": 22,
     "metadata": {},
     "output_type": "execute_result"
    }
   ],
   "source": [
    "LDA(search(metadata[0],['beta']),10,7,otherwords)"
   ]
  },
  {
   "cell_type": "code",
   "execution_count": 9,
   "metadata": {},
   "outputs": [
    {
     "data": {
      "text/plain": [
       "['Scalable Capital with 250 million in assets 6000 retail clients Raises 33 Million from BlackRock ',\n",
       " 'Roboadvisors I was shocked When saw this yesterday 90 vs 10 especially that BlackRock will use it Should we consider it',\n",
       " 'BlackRock Invests in European RoboAdvisor ',\n",
       " 'Curated on BlackRock installing roboadvisors to replace humans as ETF stockpickers ',\n",
       " 'BlackRock Takes Stake In RoboAdvisor Scalable Capital BLK',\n",
       " 'Scalable Capital Blackrock steigt beim Roboadvisor ein manager magazin ',\n",
       " 'BlackRock makes a huge investment in European ',\n",
       " 'BlackRock takes Scalable Capital stake in Europe roboadvisor push via ',\n",
       " 'BlackRock takes Scalable Capital stake in Europe roboadvisor push Reuters ',\n",
       " 'As Blackrock invests 30mil in Repost I am with French when to ',\n",
       " ' BlackRock confirme son ticket dans le roboadvisor Scalable Capital via ',\n",
       " 'NEW BlackRocks Global Investor Pulse Survey ',\n",
       " 'BlackRock takes Scalable Capital stake in Europe roboadvisor push ',\n",
       " 'BlackRock Takes Scalable Capital Stake in Europe RoboAdvisor Push ',\n",
       " 'Regelgeving banken stimuleert disruptie BlackRock takes Scalable Capital stake in Europe roboadvisor push ',\n",
       " 'BlackRock confirme son ticket dans le roboadvisor Scalable Capital ',\n",
       " 'BlackRock takes stake in in European roboadvisor push via ',\n",
       " 'BlackRock Takes Scalable Capital Stake in Europe RoboAdvisor Push on ',\n",
       " 'BlackRock takes member stake in Europe roboadvisor push via ',\n",
       " 'Checkit BlackRock takes Scalable Capital stake in Europe roboadvisor push via ',\n",
       " '30mil into the B2C UKGerman BlackRock takes Scalable Capital stake in Europe roboadvisor push Reuters ',\n",
       " 'BlackRock has taken an equity stake in roboadvisor Scalable Capital']"
      ]
     },
     "execution_count": 9,
     "metadata": {},
     "output_type": "execute_result"
    }
   ],
   "source": [
    "text(search(metadata[0],['Blackrock','blackrock']))"
   ]
  },
  {
   "cell_type": "code",
   "execution_count": 10,
   "metadata": {},
   "outputs": [
    {
     "data": {
      "text/plain": [
       "['0.018*\"sector\" + 0.016*\"ready\" + 0.012*\"new\" + 0.012*\"5\" + 0.012*\"rise\" + 0.011*\"800m\" + 0.011*\"willing\"',\n",
       " '0.036*\"investing\" + 0.017*\"transform\" + 0.015*\"roboanalysts\" + 0.012*\"know\" + 0.012*\"digital\" + 0.011*\"client\" + 0.011*\"mortgage\"',\n",
       " '0.020*\"future\" + 0.012*\"portfolio\" + 0.010*\"fee\" + 0.010*\"know\" + 0.009*\"think\" + 0.009*\"advisory\" + 0.007*\"stock\"',\n",
       " '0.020*\"investor\" + 0.015*\"question\" + 0.015*\"ask\" + 0.012*\"read\" + 0.009*\"new\" + 0.009*\"fee\" + 0.009*\"invest\"',\n",
       " '0.020*\"change\" + 0.013*\"advisory\" + 0.011*\"experience\" + 0.011*\"build\" + 0.010*\"investing\" + 0.010*\"starting\" + 0.010*\"fund\"',\n",
       " '0.030*\"rt\" + 0.016*\"management\" + 0.010*\"traditional\" + 0.009*\"money\" + 0.009*\"report\" + 0.009*\"challenged\" + 0.009*\"boom\"',\n",
       " '0.017*\"investing\" + 0.016*\"use\" + 0.010*\"automated\" + 0.010*\"market\" + 0.010*\"major\" + 0.010*\"platform\" + 0.008*\"13\"',\n",
       " '0.025*\"million\" + 0.017*\"wealthsimple\" + 0.016*\"review\" + 0.013*\"800\" + 0.013*\"valuation\" + 0.012*\"uk\" + 0.011*\"raise\"',\n",
       " '0.023*\"human\" + 0.018*\"best\" + 0.013*\"long\" + 0.012*\"touch\" + 0.010*\"way\" + 0.010*\"go\" + 0.010*\"finding\"',\n",
       " '0.028*\"portfolio\" + 0.017*\"advice\" + 0.016*\"digital\" + 0.014*\"service\" + 0.012*\"management\" + 0.010*\"think\" + 0.008*\"human\"']"
      ]
     },
     "execution_count": 10,
     "metadata": {},
     "output_type": "execute_result"
    }
   ],
   "source": [
    "LDA(metadata[1],10,7,otherwords)"
   ]
  }
 ],
 "metadata": {
  "kernelspec": {
   "display_name": "Python 3",
   "language": "python",
   "name": "python3"
  },
  "language_info": {
   "codemirror_mode": {
    "name": "ipython",
    "version": 3
   },
   "file_extension": ".py",
   "mimetype": "text/x-python",
   "name": "python",
   "nbconvert_exporter": "python",
   "pygments_lexer": "ipython3",
   "version": "3.7.3"
  }
 },
 "nbformat": 4,
 "nbformat_minor": 4
}
