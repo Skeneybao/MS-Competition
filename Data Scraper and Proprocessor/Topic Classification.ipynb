{
 "cells": [
  {
   "cell_type": "code",
   "execution_count": 1,
   "metadata": {},
   "outputs": [
    {
     "name": "stderr",
     "output_type": "stream",
     "text": [
      "[nltk_data] Downloading package wordnet to\n",
      "[nltk_data]     C:\\Users\\Erzi\\AppData\\Roaming\\nltk_data...\n",
      "[nltk_data]   Package wordnet is already up-to-date!\n",
      "[nltk_data] Downloading package punkt to\n",
      "[nltk_data]     C:\\Users\\Erzi\\AppData\\Roaming\\nltk_data...\n",
      "[nltk_data]   Package punkt is already up-to-date!\n",
      "[nltk_data] Downloading package stopwords to\n",
      "[nltk_data]     C:\\Users\\Erzi\\AppData\\Roaming\\nltk_data...\n",
      "[nltk_data]   Package stopwords is already up-to-date!\n"
     ]
    }
   ],
   "source": [
    "from Data_Processor import *\n",
    "import numpy as np\n",
    "from matplotlib import pyplot as plt"
   ]
  },
  {
   "cell_type": "code",
   "execution_count": 2,
   "metadata": {},
   "outputs": [],
   "source": [
    "from gensim.test.utils import common_texts, get_tmpfile\n",
    "from gensim.models import Word2Vec\n",
    "from gensim.test.utils import datapath\n",
    "from gensim import utils"
   ]
  },
  {
   "cell_type": "code",
   "execution_count": 3,
   "metadata": {},
   "outputs": [],
   "source": [
    "model = gensim.models.Word2Vec.load('D')"
   ]
  },
  {
   "cell_type": "code",
   "execution_count": 7,
   "metadata": {},
   "outputs": [
    {
     "name": "stdout",
     "output_type": "stream",
     "text": [
      "[('cust', 0.6176336407661438), ('svc', 0.5332121849060059), ('continuously', 0.5211433172225952), ('bofahelp', 0.5173805952072144), ('costumer', 0.5151622891426086), ('convenience', 0.5017639398574829), ('automated', 0.5002431869506836), ('serv', 0.48958683013916016), ('merchant', 0.4793967604637146), ('user', 0.46972158551216125), ('icicibankcare', 0.4682827889919281), ('assistance', 0.46585261821746826), ('boa', 0.4606800675392151), ('loyalty', 0.45790743827819824), ('professionalism', 0.4578629732131958), ('client', 0.4574771225452423), ('frustrating', 0.45726561546325684), ('unacceptable', 0.45638278126716614), ('interaction', 0.45539963245391846), ('unprofessional', 0.45292606949806213), ('unnecessary', 0.4520711600780487), ('wf', 0.45126035809516907), ('experience', 0.44707435369491577), ('provider', 0.4455963373184204), ('personalized', 0.44452396035194397), ('askwellsfargo', 0.44323083758354187), ('seamless', 0.4413851499557495), ('process', 0.44086331129074097), ('manner', 0.43696701526641846), ('satisfaction', 0.4354115128517151), ('resolution', 0.4353019595146179), ('phone', 0.43219560384750366), ('loyal', 0.4313826858997345), ('convenient', 0.43108147382736206), ('notary', 0.42673420906066895), ('dissatisfied', 0.4262987971305847), ('personalised', 0.4250934422016144), ('capability', 0.42361512780189514), ('rude', 0.42307108640670776), ('callback', 0.4213021397590637), ('vendor', 0.4197690486907959), ('online', 0.4174242615699768), ('ebanking', 0.4172314703464508), ('supervisor', 0.411825567483902), ('product', 0.4115446209907532), ('procedure', 0.4108774960041046), ('flagstar', 0.41056984663009644), ('bankofamerica', 0.40918809175491333), ('branch', 0.4078121781349182), ('icicibank', 0.40739598870277405)]\n"
     ]
    }
   ],
   "source": [
    "print(model.wv.most_similar(['customer','service'],topn=50))"
   ]
  },
  {
   "cell_type": "code",
   "execution_count": 24,
   "metadata": {},
   "outputs": [
    {
     "name": "stdout",
     "output_type": "stream",
     "text": [
      "([1972, 1645, 1637, 2089, 2281, 3123, 2302, 1832, 1944, 1611, 1945, 2183, 2479, 1695, 1740, 1986, 1647, 1997, 1780, 1614, 1713, 1804, 1747, 1836, 2104, 1712, 1425, 2077, 1642, 1844, 1657, 1884, 1681, 1680, 1574, 1878], 67760)\n",
      "([1972, 1645, 1637, 2089, 2281, 3123, 2301, 1832, 1944, 1611, 1944, 2183, 2479, 1695, 1740, 1983, 1647, 1997, 1777, 1614, 1711, 1804, 1746, 1836, 2104, 1712, 1423, 2076, 1641, 1842, 1657, 1881, 1681, 1678, 1573, 1876], 67735)\n"
     ]
    }
   ],
   "source": [
    "dirlist=[r\"D:\\ssdata\\UBS\\UBS\"]\n",
    "DP2=Data_Processor(start_month='2017-06',end_month='2020-05',\n",
    "                  template=dirlist)\n",
    "DP2.readdata()\n",
    "print(DP2.datanums())\n",
    "DP2.specifylang()\n",
    "noise=DP2.removenoise() \n",
    "DP2.clean()\n",
    "print(DP2.datanums())"
   ]
  },
  {
   "cell_type": "code",
   "execution_count": 20,
   "metadata": {},
   "outputs": [],
   "source": [
    "ndata=[]\n",
    "for m in DP2.data:\n",
    "    current_month=[]\n",
    "    for i in m[:-1]:\n",
    "        if  i['positive']>2 or i['negative']<-2:\n",
    "            current_month.append(i)\n",
    "    ndata.append(current_month)\n",
    "DP2.data=ndata            "
   ]
  }
 ],
 "metadata": {
  "kernelspec": {
   "display_name": "Python 3",
   "language": "python",
   "name": "python3"
  },
  "language_info": {
   "codemirror_mode": {
    "name": "ipython",
    "version": 3
   },
   "file_extension": ".py",
   "mimetype": "text/x-python",
   "name": "python",
   "nbconvert_exporter": "python",
   "pygments_lexer": "ipython3",
   "version": "3.7.4"
  }
 },
 "nbformat": 4,
 "nbformat_minor": 2
}
