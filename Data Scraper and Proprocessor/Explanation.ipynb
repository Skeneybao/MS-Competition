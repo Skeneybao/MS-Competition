{
 "cells": [
  {
   "cell_type": "code",
   "execution_count": null,
   "metadata": {},
   "outputs": [],
   "source": [
    "from DataProcessor import Data_Processor\n",
    "from DataProcessor import clean\n",
    "\n",
    "clean(data)\n",
    "#clean the input data\n",
    "#input should be 1-d or 2-d list-like objects\n",
    "#return the cleaned data in the same type\n",
    "\n",
    "DP=Data_Processor(start_month='2015-01',end_month='2015-02',template=\"/Users/ethan_bao/Wealth_Management\")\n",
    "#Initialize the object\n",
    "\n",
    "DP.readdata()\n",
    "#Read the data from local files\n",
    "\n",
    "DP.specifylang()\n",
    "#Remove non-english data\n",
    "\n",
    "DP.clean()\n",
    "#clean the data\n",
    "\n",
    "DP.removenoise()\n",
    "#remove noise data\n",
    "#this method is very aggressive, likely to remove more than 60% data.\n",
    "\n",
    "DP.datanums()\n",
    "#return the number of data in each month\n",
    "\n",
    "DP.textdata()\n",
    "#return the texts of each tweet\n",
    "\n",
    "DP.data\n",
    "#return all the data\n",
    "\n",
    "DP.getngrams(num=n,lemma=True)\n",
    "#return the lemmatized n-grams data \n",
    "\n",
    "DP.getngrams(data=string,num=n,lemma=True)\n",
    "#return the lemmatized n-grams of the input string\n",
    "#if input data=string, we could get ngrams of the string\n",
    "\n",
    "DP.getfreq(ngrams)\n",
    "#return the frequency of ngrams\n",
    "#input parameter should be got from DP.GetNGrams()\n",
    "\n",
    "DP.tfidf(unigrams)\n",
    "#return the tfidf chart\n",
    "#input should be unigrams\n",
    "\n",
    "DP.wordcld(unigrams)\n",
    "#plot the word cloud image\n",
    "#input should be unigrams\n",
    "\n",
    "DP.addstopwords(words)\n",
    "#add some stop words\n",
    "#input should 1-d list-like object"
   ]
  }
 ],
 "metadata": {
  "kernelspec": {
   "display_name": "Python 3",
   "language": "python",
   "name": "python3"
  },
  "language_info": {
   "codemirror_mode": {
    "name": "ipython",
    "version": 3
   },
   "file_extension": ".py",
   "mimetype": "text/x-python",
   "name": "python",
   "nbconvert_exporter": "python",
   "pygments_lexer": "ipython3",
   "version": "3.7.3"
  }
 },
 "nbformat": 4,
 "nbformat_minor": 2
}
